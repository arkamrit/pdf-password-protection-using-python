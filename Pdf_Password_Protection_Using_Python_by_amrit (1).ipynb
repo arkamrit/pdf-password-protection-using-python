{
  "cells": [
    {
      "cell_type": "code",
      "execution_count": 6,
      "id": "finnish-encyclopedia",
      "metadata": {
        "colab": {
          "base_uri": "https://localhost:8080/"
        },
        "id": "finnish-encyclopedia",
        "outputId": "9534889e-bacd-4beb-b824-e1eb73943b56"
      },
      "outputs": [
        {
          "output_type": "stream",
          "name": "stdout",
          "text": [
            "Requirement already satisfied: PyPDF2 in /usr/local/lib/python3.10/dist-packages (3.0.1)\n"
          ]
        }
      ],
      "source": [
        "!pip install PyPDF2"
      ]
    },
    {
      "cell_type": "code",
      "execution_count": 7,
      "id": "known-substance",
      "metadata": {
        "id": "known-substance"
      },
      "outputs": [],
      "source": [
        "from PyPDF2 import PdfReader,PdfWriter"
      ]
    },
    {
      "cell_type": "code",
      "execution_count": 8,
      "id": "fifteen-globe",
      "metadata": {
        "id": "fifteen-globe"
      },
      "outputs": [],
      "source": [
        "### open the current pdf\n",
        "file_pdf=PdfReader('Atomic habits ( PDFDrive ).pdf')\n",
        "### Object for pdf writer\n",
        "out_pdf=PdfWriter()"
      ]
    },
    {
      "cell_type": "code",
      "execution_count": 9,
      "id": "altered-influence",
      "metadata": {
        "colab": {
          "base_uri": "https://localhost:8080/"
        },
        "id": "altered-influence",
        "outputId": "a822593f-25bb-471d-f843-c7f3fd6e84a5"
      },
      "outputs": [
        {
          "output_type": "execute_result",
          "data": {
            "text/plain": [
              "<PyPDF2._reader.PdfReader at 0x7cad1e01aec0>"
            ]
          },
          "metadata": {},
          "execution_count": 9
        }
      ],
      "source": [
        "file_pdf"
      ]
    },
    {
      "cell_type": "code",
      "execution_count": 10,
      "id": "critical-technique",
      "metadata": {
        "id": "critical-technique"
      },
      "outputs": [],
      "source": [
        "for i in range(len(file_pdf.pages)):\n",
        "    page_details = file_pdf.pages[i]  # Use 'pages' and index to get the page\n",
        "    ### Add to the output page\n",
        "    out_pdf.add_page(page_details) # Changed addPage to add_page"
      ]
    },
    {
      "cell_type": "code",
      "execution_count": 11,
      "id": "surrounded-chart",
      "metadata": {
        "id": "surrounded-chart"
      },
      "outputs": [],
      "source": [
        "password=\"Amrit@123\"\n",
        "\n",
        "out_pdf.encrypt(password)"
      ]
    },
    {
      "cell_type": "code",
      "execution_count": 12,
      "id": "divided-horror",
      "metadata": {
        "id": "divided-horror"
      },
      "outputs": [],
      "source": [
        "with open(\"COVERLETTER.pdf\",\"wb\") as filename:\n",
        "    out_pdf.write(filename)\n",
        "\n",
        "#with\n",
        "#This is a context manager in Python.\n",
        "#It ensures that the file is properly opened and closed, even if an error occurs during the operation.\n",
        "#w-> writing\n",
        "#b-> binary\n",
        "# as filename\n",
        "#Assigns the opened file object to the variable filename.\n",
        "#This name is used to interact with the file inside the with block."
      ]
    },
    {
      "cell_type": "code",
      "execution_count": 12,
      "id": "metric-difficulty",
      "metadata": {
        "id": "metric-difficulty"
      },
      "outputs": [],
      "source": []
    }
  ],
  "metadata": {
    "kernelspec": {
      "display_name": "Python 3",
      "language": "python",
      "name": "python3"
    },
    "language_info": {
      "codemirror_mode": {
        "name": "ipython",
        "version": 3
      },
      "file_extension": ".py",
      "mimetype": "text/x-python",
      "name": "python",
      "nbconvert_exporter": "python",
      "pygments_lexer": "ipython3",
      "version": "3.8.5"
    },
    "colab": {
      "provenance": []
    }
  },
  "nbformat": 4,
  "nbformat_minor": 5
}